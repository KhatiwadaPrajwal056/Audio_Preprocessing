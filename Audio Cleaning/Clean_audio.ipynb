{
 "cells": [
  {
   "cell_type": "code",
   "execution_count": null,
   "metadata": {},
   "outputs": [],
   "source": [
    "import numpy as np\n",
    "from scipy.signal import butter, filtfilt\n",
    "import matplotlib.pyplot as plt\n",
    "\n",
    "# Generate a sample audio signal with noise\n",
    "fs = 10000  # Sampling frequency (10 kHz)\n",
    "t = np.linspace(0, 10, fs*10)  # 10 seconds of audio\n",
    "t.shape\n",
    "# signal = np.sin(2*np.pi*1000*t) + np.sin(2*np.pi*5000*t)  # Pure tones at 1 kHz and 5 kHz\n",
    "# noise = np.random.normal(0, 0.5, t.shape)\n",
    "# audio = signal + noise  # Signal with noise\n",
    "\n",
    "# # Define band-pass filter\n",
    "# def butter_bandpass(lowcut, highcut, fs, order=5):\n",
    "#     nyquist = 0.5 * fs\n",
    "#     low = lowcut / nyquist\n",
    "#     high = highcut / nyquist\n",
    "#     b, a = butter(order, [low, high], btype='band')\n",
    "#     return b, a\n",
    "\n",
    "# def bandpass_filter(data, lowcut, highcut, fs, order=5):\n",
    "#     b, a = butter_bandpass(lowcut, highcut, fs, order=order)\n",
    "#     y = filtfilt(b, a, data)\n",
    "#     return y\n",
    "\n",
    "# # Apply band-pass filter\n",
    "# lowcut = 1000.0  # 1 kHz\n",
    "# highcut = 4000.0  # 4 kHz\n",
    "# cleaned_audio = bandpass_filter(audio, lowcut, highcut, fs, order=6)\n",
    "\n",
    "# # Plot original and cleaned signals\n",
    "# plt.figure(figsize=(15, 6))\n",
    "# plt.subplot(2, 1, 1)\n",
    "# plt.plot(t, audio)\n",
    "# plt.title('Original Audio with Noise')\n",
    "# plt.subplot(2, 1, 2)\n",
    "# plt.plot(t, cleaned_audio)\n",
    "# plt.title('Cleaned Audio after Band-Pass Filtering')\n",
    "# plt.xlabel('Time [seconds]')\n",
    "# plt.tight_layout()\n",
    "# plt.show()\n",
    "\n",
    "# print(f\"Original audio length: {len(audio)} samples\")\n",
    "# print(f\"Cleaned audio length: {len(cleaned_audio)} samples\")"
   ]
  }
 ],
 "metadata": {
  "language_info": {
   "name": "python"
  }
 },
 "nbformat": 4,
 "nbformat_minor": 2
}
