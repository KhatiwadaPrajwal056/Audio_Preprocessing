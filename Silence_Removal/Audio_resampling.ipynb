{
 "cells": [
  {
   "cell_type": "code",
   "execution_count": 1,
   "metadata": {},
   "outputs": [],
   "source": [
    "import numpy as np\n",
    "from pydub import AudioSegment"
   ]
  },
  {
   "cell_type": "code",
   "execution_count": 20,
   "metadata": {},
   "outputs": [
    {
     "name": "stdout",
     "output_type": "stream",
     "text": [
      "Original audio length: 375412 samples\n",
      "Cleaned audio length: 255411 samples\n"
     ]
    }
   ],
   "source": [
    "def remove_silence(audio, window_size=60000, threshold=0.6):\n",
    "    global_mean = np.mean(audio)\n",
    "    start = 0\n",
    "    end = len(audio) - 1\n",
    "\n",
    "    # Process from start\n",
    "    while start < end:\n",
    "        local_mean = np.mean(audio[start:start+window_size])\n",
    "        if local_mean < global_mean * threshold:\n",
    "            start += window_size\n",
    "        else:\n",
    "            break\n",
    "\n",
    "    # Process from end\n",
    "    while end > start:\n",
    "        local_mean = np.mean(audio[end-window_size:end])\n",
    "        if local_mean < global_mean * threshold:\n",
    "            end -= window_size\n",
    "        else:\n",
    "            break\n",
    "\n",
    "    return audio[start:end]\n",
    "\n",
    "# mp3 file\n",
    "audio_file = 'vulture.mp3'\n",
    "audio_segment = AudioSegment.from_mp3(audio_file)\n",
    "# numpy array\n",
    "audio_array = np.array(audio_segment.get_array_of_samples())\n",
    "# silence removal\n",
    "cleaned_audio = remove_silence(audio_array)\n",
    "\n",
    "print(f\"Original audio length: {len(audio_array)} samples\")\n",
    "print(f\"Cleaned audio length: {len(cleaned_audio)} samples\")"
   ]
  }
 ],
 "metadata": {
  "kernelspec": {
   "display_name": "Python 3",
   "language": "python",
   "name": "python3"
  },
  "language_info": {
   "codemirror_mode": {
    "name": "ipython",
    "version": 3
   },
   "file_extension": ".py",
   "mimetype": "text/x-python",
   "name": "python",
   "nbconvert_exporter": "python",
   "pygments_lexer": "ipython3",
   "version": "3.11.1"
  }
 },
 "nbformat": 4,
 "nbformat_minor": 2
}
